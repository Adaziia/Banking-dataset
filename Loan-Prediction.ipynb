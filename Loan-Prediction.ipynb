{
 "cells": [
  {
   "cell_type": "code",
   "execution_count": 22,
   "metadata": {
    "_cell_guid": "b1076dfc-b9ad-4769-8c92-a6c4dae69d19",
    "_uuid": "8f2839f25d086af736a60e9eeb907d3b93b6e0e5",
    "execution": {
     "iopub.execute_input": "2024-10-29T07:11:07.618239Z",
     "iopub.status.busy": "2024-10-29T07:11:07.617810Z",
     "iopub.status.idle": "2024-10-29T07:11:07.632945Z",
     "shell.execute_reply": "2024-10-29T07:11:07.631488Z",
     "shell.execute_reply.started": "2024-10-29T07:11:07.618196Z"
    }
   },
   "outputs": [
    {
     "name": "stdout",
     "output_type": "stream",
     "text": [
      "/kaggle/input/banking-dataset/Banking Dataset Classifier.csv\n"
     ]
    }
   ],
   "source": [
    "# This Python 3 environment comes with many helpful analytics libraries installed\n",
    "# It is defined by the kaggle/python Docker image: https://github.com/kaggle/docker-python\n",
    "# For example, here's several helpful packages to load\n",
    "\n",
    "import numpy as np # linear algebra\n",
    "import pandas as pd # data processing, CSV file I/O (e.g. pd.read_csv)\n",
    "\n",
    "# Input data files are available in the read-only \"../input/\" directory\n",
    "# For example, running this (by clicking run or pressing Shift+Enter) will list all files under the input directory\n",
    "\n",
    "import os\n",
    "for dirname, _, filenames in os.walk('/kaggle/input'):\n",
    "    for filename in filenames:\n",
    "        print(os.path.join(dirname, filename))\n",
    "\n",
    "# You can write up to 20GB to the current directory (/kaggle/working/) that gets preserved as output when you create a version using \"Save & Run All\" \n",
    "# You can also write temporary files to /kaggle/temp/, but they won't be saved outside of the current session"
   ]
  },
  {
   "cell_type": "markdown",
   "metadata": {},
   "source": [
    "# Predicting of loan from Banking Dataset classifier\n",
    "-Objective: To predict whether the customer is likely to \n",
    "default on a loan or not.\n",
    "-Classifier is primarily relying on credit score and loan-to-income ratio to predict default.(customers with high credit utilization ,late payment and low savings account balances are more likely to default)"
   ]
  },
  {
   "cell_type": "code",
   "execution_count": 25,
   "metadata": {
    "execution": {
     "iopub.execute_input": "2024-10-29T07:12:00.512366Z",
     "iopub.status.busy": "2024-10-29T07:12:00.511441Z",
     "iopub.status.idle": "2024-10-29T07:12:00.532663Z",
     "shell.execute_reply": "2024-10-29T07:12:00.531399Z",
     "shell.execute_reply.started": "2024-10-29T07:12:00.512311Z"
    }
   },
   "outputs": [],
   "source": [
    "data=pd.read_csv(\"/kaggle/input/banking-dataset/Banking Dataset Classifier.csv\")"
   ]
  },
  {
   "cell_type": "code",
   "execution_count": 27,
   "metadata": {
    "execution": {
     "iopub.execute_input": "2024-10-29T07:12:31.305215Z",
     "iopub.status.busy": "2024-10-29T07:12:31.304791Z",
     "iopub.status.idle": "2024-10-29T07:12:31.321331Z",
     "shell.execute_reply": "2024-10-29T07:12:31.320165Z",
     "shell.execute_reply.started": "2024-10-29T07:12:31.305175Z"
    }
   },
   "outputs": [
    {
     "data": {
      "text/plain": [
       "age            0\n",
       "job            0\n",
       "marital        0\n",
       "education      0\n",
       "default        0\n",
       "housing        0\n",
       "loan           0\n",
       "contact        0\n",
       "month          0\n",
       "day_of_week    0\n",
       "duration       0\n",
       "campaign       0\n",
       "poutcome       0\n",
       "dtype: int64"
      ]
     },
     "execution_count": 27,
     "metadata": {},
     "output_type": "execute_result"
    }
   ],
   "source": [
    "data.isnull().sum()"
   ]
  },
  {
   "cell_type": "code",
   "execution_count": 28,
   "metadata": {
    "execution": {
     "iopub.execute_input": "2024-10-29T07:12:43.862786Z",
     "iopub.status.busy": "2024-10-29T07:12:43.862344Z",
     "iopub.status.idle": "2024-10-29T07:12:43.892875Z",
     "shell.execute_reply": "2024-10-29T07:12:43.891426Z",
     "shell.execute_reply.started": "2024-10-29T07:12:43.862743Z"
    }
   },
   "outputs": [
    {
     "name": "stdout",
     "output_type": "stream",
     "text": [
      "<class 'pandas.core.frame.DataFrame'>\n",
      "RangeIndex: 8238 entries, 0 to 8237\n",
      "Data columns (total 13 columns):\n",
      " #   Column       Non-Null Count  Dtype\n",
      "---  ------       --------------  -----\n",
      " 0   age          8238 non-null   int64\n",
      " 1   job          8238 non-null   int64\n",
      " 2   marital      8238 non-null   int64\n",
      " 3   education    8238 non-null   int64\n",
      " 4   default      8238 non-null   int64\n",
      " 5   housing      8238 non-null   int64\n",
      " 6   loan         8238 non-null   int64\n",
      " 7   contact      8238 non-null   int64\n",
      " 8   month        8238 non-null   int64\n",
      " 9   day_of_week  8238 non-null   int64\n",
      " 10  duration     8238 non-null   int64\n",
      " 11  campaign     8238 non-null   int64\n",
      " 12  poutcome     8238 non-null   int64\n",
      "dtypes: int64(13)\n",
      "memory usage: 836.8 KB\n"
     ]
    }
   ],
   "source": [
    "data.info()"
   ]
  },
  {
   "cell_type": "code",
   "execution_count": 39,
   "metadata": {
    "execution": {
     "iopub.execute_input": "2024-10-29T07:21:16.894981Z",
     "iopub.status.busy": "2024-10-29T07:21:16.893409Z",
     "iopub.status.idle": "2024-10-29T07:21:17.149410Z",
     "shell.execute_reply": "2024-10-29T07:21:17.147273Z",
     "shell.execute_reply.started": "2024-10-29T07:21:16.894849Z"
    }
   },
   "outputs": [],
   "source": [
    "from sklearn.model_selection import train_test_split\n",
    "from sklearn.tree import DecisionTreeClassifier\n",
    "from sklearn.metrics import accuracy_score"
   ]
  },
  {
   "cell_type": "code",
   "execution_count": 41,
   "metadata": {
    "execution": {
     "iopub.execute_input": "2024-10-29T07:21:27.061158Z",
     "iopub.status.busy": "2024-10-29T07:21:27.060733Z",
     "iopub.status.idle": "2024-10-29T07:21:27.067757Z",
     "shell.execute_reply": "2024-10-29T07:21:27.066452Z",
     "shell.execute_reply.started": "2024-10-29T07:21:27.061120Z"
    }
   },
   "outputs": [],
   "source": [
    "x=data.drop([\"loan\"],axis=1)\n",
    "y=data[\"loan\"]"
   ]
  },
  {
   "cell_type": "code",
   "execution_count": 42,
   "metadata": {
    "execution": {
     "iopub.execute_input": "2024-10-29T07:21:31.502333Z",
     "iopub.status.busy": "2024-10-29T07:21:31.501794Z",
     "iopub.status.idle": "2024-10-29T07:21:31.511511Z",
     "shell.execute_reply": "2024-10-29T07:21:31.510347Z",
     "shell.execute_reply.started": "2024-10-29T07:21:31.502287Z"
    }
   },
   "outputs": [],
   "source": [
    "x_train,x_test,y_train,y_test=train_test_split(x,y,train_size=0.85)"
   ]
  },
  {
   "cell_type": "code",
   "execution_count": 43,
   "metadata": {
    "execution": {
     "iopub.execute_input": "2024-10-29T07:21:55.609473Z",
     "iopub.status.busy": "2024-10-29T07:21:55.609048Z",
     "iopub.status.idle": "2024-10-29T07:21:55.615536Z",
     "shell.execute_reply": "2024-10-29T07:21:55.614212Z",
     "shell.execute_reply.started": "2024-10-29T07:21:55.609433Z"
    }
   },
   "outputs": [],
   "source": [
    "classifier=DecisionTreeClassifier()"
   ]
  },
  {
   "cell_type": "code",
   "execution_count": 44,
   "metadata": {
    "execution": {
     "iopub.execute_input": "2024-10-29T07:22:10.264083Z",
     "iopub.status.busy": "2024-10-29T07:22:10.263421Z",
     "iopub.status.idle": "2024-10-29T07:22:10.315211Z",
     "shell.execute_reply": "2024-10-29T07:22:10.313679Z",
     "shell.execute_reply.started": "2024-10-29T07:22:10.264009Z"
    }
   },
   "outputs": [
    {
     "data": {
      "text/html": [
       "<style>#sk-container-id-2 {color: black;background-color: white;}#sk-container-id-2 pre{padding: 0;}#sk-container-id-2 div.sk-toggleable {background-color: white;}#sk-container-id-2 label.sk-toggleable__label {cursor: pointer;display: block;width: 100%;margin-bottom: 0;padding: 0.3em;box-sizing: border-box;text-align: center;}#sk-container-id-2 label.sk-toggleable__label-arrow:before {content: \"▸\";float: left;margin-right: 0.25em;color: #696969;}#sk-container-id-2 label.sk-toggleable__label-arrow:hover:before {color: black;}#sk-container-id-2 div.sk-estimator:hover label.sk-toggleable__label-arrow:before {color: black;}#sk-container-id-2 div.sk-toggleable__content {max-height: 0;max-width: 0;overflow: hidden;text-align: left;background-color: #f0f8ff;}#sk-container-id-2 div.sk-toggleable__content pre {margin: 0.2em;color: black;border-radius: 0.25em;background-color: #f0f8ff;}#sk-container-id-2 input.sk-toggleable__control:checked~div.sk-toggleable__content {max-height: 200px;max-width: 100%;overflow: auto;}#sk-container-id-2 input.sk-toggleable__control:checked~label.sk-toggleable__label-arrow:before {content: \"▾\";}#sk-container-id-2 div.sk-estimator input.sk-toggleable__control:checked~label.sk-toggleable__label {background-color: #d4ebff;}#sk-container-id-2 div.sk-label input.sk-toggleable__control:checked~label.sk-toggleable__label {background-color: #d4ebff;}#sk-container-id-2 input.sk-hidden--visually {border: 0;clip: rect(1px 1px 1px 1px);clip: rect(1px, 1px, 1px, 1px);height: 1px;margin: -1px;overflow: hidden;padding: 0;position: absolute;width: 1px;}#sk-container-id-2 div.sk-estimator {font-family: monospace;background-color: #f0f8ff;border: 1px dotted black;border-radius: 0.25em;box-sizing: border-box;margin-bottom: 0.5em;}#sk-container-id-2 div.sk-estimator:hover {background-color: #d4ebff;}#sk-container-id-2 div.sk-parallel-item::after {content: \"\";width: 100%;border-bottom: 1px solid gray;flex-grow: 1;}#sk-container-id-2 div.sk-label:hover label.sk-toggleable__label {background-color: #d4ebff;}#sk-container-id-2 div.sk-serial::before {content: \"\";position: absolute;border-left: 1px solid gray;box-sizing: border-box;top: 0;bottom: 0;left: 50%;z-index: 0;}#sk-container-id-2 div.sk-serial {display: flex;flex-direction: column;align-items: center;background-color: white;padding-right: 0.2em;padding-left: 0.2em;position: relative;}#sk-container-id-2 div.sk-item {position: relative;z-index: 1;}#sk-container-id-2 div.sk-parallel {display: flex;align-items: stretch;justify-content: center;background-color: white;position: relative;}#sk-container-id-2 div.sk-item::before, #sk-container-id-2 div.sk-parallel-item::before {content: \"\";position: absolute;border-left: 1px solid gray;box-sizing: border-box;top: 0;bottom: 0;left: 50%;z-index: -1;}#sk-container-id-2 div.sk-parallel-item {display: flex;flex-direction: column;z-index: 1;position: relative;background-color: white;}#sk-container-id-2 div.sk-parallel-item:first-child::after {align-self: flex-end;width: 50%;}#sk-container-id-2 div.sk-parallel-item:last-child::after {align-self: flex-start;width: 50%;}#sk-container-id-2 div.sk-parallel-item:only-child::after {width: 0;}#sk-container-id-2 div.sk-dashed-wrapped {border: 1px dashed gray;margin: 0 0.4em 0.5em 0.4em;box-sizing: border-box;padding-bottom: 0.4em;background-color: white;}#sk-container-id-2 div.sk-label label {font-family: monospace;font-weight: bold;display: inline-block;line-height: 1.2em;}#sk-container-id-2 div.sk-label-container {text-align: center;}#sk-container-id-2 div.sk-container {/* jupyter's `normalize.less` sets `[hidden] { display: none; }` but bootstrap.min.css set `[hidden] { display: none !important; }` so we also need the `!important` here to be able to override the default hidden behavior on the sphinx rendered scikit-learn.org. See: https://github.com/scikit-learn/scikit-learn/issues/21755 */display: inline-block !important;position: relative;}#sk-container-id-2 div.sk-text-repr-fallback {display: none;}</style><div id=\"sk-container-id-2\" class=\"sk-top-container\"><div class=\"sk-text-repr-fallback\"><pre>DecisionTreeClassifier()</pre><b>In a Jupyter environment, please rerun this cell to show the HTML representation or trust the notebook. <br />On GitHub, the HTML representation is unable to render, please try loading this page with nbviewer.org.</b></div><div class=\"sk-container\" hidden><div class=\"sk-item\"><div class=\"sk-estimator sk-toggleable\"><input class=\"sk-toggleable__control sk-hidden--visually\" id=\"sk-estimator-id-2\" type=\"checkbox\" checked><label for=\"sk-estimator-id-2\" class=\"sk-toggleable__label sk-toggleable__label-arrow\">DecisionTreeClassifier</label><div class=\"sk-toggleable__content\"><pre>DecisionTreeClassifier()</pre></div></div></div></div></div>"
      ],
      "text/plain": [
       "DecisionTreeClassifier()"
      ]
     },
     "execution_count": 44,
     "metadata": {},
     "output_type": "execute_result"
    }
   ],
   "source": [
    "classifier.fit(x_train,y_train)"
   ]
  },
  {
   "cell_type": "code",
   "execution_count": 45,
   "metadata": {
    "execution": {
     "iopub.execute_input": "2024-10-29T07:22:19.416284Z",
     "iopub.status.busy": "2024-10-29T07:22:19.415736Z",
     "iopub.status.idle": "2024-10-29T07:22:19.424846Z",
     "shell.execute_reply": "2024-10-29T07:22:19.423553Z",
     "shell.execute_reply.started": "2024-10-29T07:22:19.416147Z"
    }
   },
   "outputs": [],
   "source": [
    "y_hat=classifier.predict(x_test)"
   ]
  },
  {
   "cell_type": "code",
   "execution_count": 46,
   "metadata": {
    "execution": {
     "iopub.execute_input": "2024-10-29T07:22:28.328527Z",
     "iopub.status.busy": "2024-10-29T07:22:28.328087Z",
     "iopub.status.idle": "2024-10-29T07:22:28.341878Z",
     "shell.execute_reply": "2024-10-29T07:22:28.340505Z",
     "shell.execute_reply.started": "2024-10-29T07:22:28.328486Z"
    }
   },
   "outputs": [
    {
     "data": {
      "text/plain": [
       "0.9590920126244235"
      ]
     },
     "execution_count": 46,
     "metadata": {},
     "output_type": "execute_result"
    }
   ],
   "source": [
    "classifier.score(x,y)"
   ]
  },
  {
   "cell_type": "markdown",
   "metadata": {},
   "source": []
  },
  {
   "cell_type": "markdown",
   "metadata": {},
   "source": [
    "# Achieving an accuracy of 95% in predicting loan default is exceptional.\n",
    "-This will help to reduce the risk exposure, Improved credit decision-making, Enhanced customer experience and Increase efficiency."
   ]
  },
  {
   "cell_type": "code",
   "execution_count": 47,
   "metadata": {
    "execution": {
     "iopub.execute_input": "2024-10-29T07:23:03.751154Z",
     "iopub.status.busy": "2024-10-29T07:23:03.750739Z",
     "iopub.status.idle": "2024-10-29T07:23:03.758266Z",
     "shell.execute_reply": "2024-10-29T07:23:03.756792Z",
     "shell.execute_reply.started": "2024-10-29T07:23:03.751109Z"
    }
   },
   "outputs": [],
   "source": [
    "acc=accuracy_score(y_hat,y_test)"
   ]
  },
  {
   "cell_type": "code",
   "execution_count": 48,
   "metadata": {
    "execution": {
     "iopub.execute_input": "2024-10-29T07:23:10.869921Z",
     "iopub.status.busy": "2024-10-29T07:23:10.869484Z",
     "iopub.status.idle": "2024-10-29T07:23:10.877801Z",
     "shell.execute_reply": "2024-10-29T07:23:10.876465Z",
     "shell.execute_reply.started": "2024-10-29T07:23:10.869879Z"
    }
   },
   "outputs": [
    {
     "data": {
      "text/plain": [
       "0.7281553398058253"
      ]
     },
     "execution_count": 48,
     "metadata": {},
     "output_type": "execute_result"
    }
   ],
   "source": [
    "acc"
   ]
  }
 ],
 "metadata": {
  "kaggle": {
   "accelerator": "none",
   "dataSources": [
    {
     "datasetId": 5969948,
     "sourceId": 9750980,
     "sourceType": "datasetVersion"
    }
   ],
   "dockerImageVersionId": 30786,
   "isGpuEnabled": false,
   "isInternetEnabled": true,
   "language": "python",
   "sourceType": "notebook"
  },
  "kernelspec": {
   "display_name": "Python 3 (ipykernel)",
   "language": "python",
   "name": "python3"
  },
  "language_info": {
   "codemirror_mode": {
    "name": "ipython",
    "version": 3
   },
   "file_extension": ".py",
   "mimetype": "text/x-python",
   "name": "python",
   "nbconvert_exporter": "python",
   "pygments_lexer": "ipython3",
   "version": "3.12.4"
  }
 },
 "nbformat": 4,
 "nbformat_minor": 4
}
